{
 "cells": [
  {
   "cell_type": "code",
   "execution_count": 22,
   "id": "e7ad7eba",
   "metadata": {},
   "outputs": [],
   "source": [
    "import json\n",
    "import random\n",
    "\n",
    "with open(\"preguntas.json\", \"r\", encoding=\"utf-8\") as archivo:\n",
    "    preguntas = json.load(archivo)"
   ]
  },
  {
   "cell_type": "code",
   "execution_count": 23,
   "id": "be2eca48",
   "metadata": {},
   "outputs": [
    {
     "data": {
      "text/plain": [
       "18"
      ]
     },
     "execution_count": 23,
     "metadata": {},
     "output_type": "execute_result"
    }
   ],
   "source": [
    "num_aleatorio = random.randint(1,20)\n",
    "num_aleatorio"
   ]
  },
  {
   "cell_type": "code",
   "execution_count": 25,
   "id": "c3e3b791",
   "metadata": {},
   "outputs": [
    {
     "name": "stdout",
     "output_type": "stream",
     "text": [
      "¿Qué valor booleano representa falso en Python?\n",
      "A. 0\n",
      "B. None\n",
      "C. False\n",
      "D. Null\n",
      "Respuesta correcta: C\n",
      "\n"
     ]
    }
   ],
   "source": [
    "for pregunta in preguntas[\"preguntas\"]:\n",
    "    if pregunta[\"numero\"] == num_aleatorio:\n",
    "        print(pregunta[\"pregunta\"])\n",
    "        for opcion in pregunta[\"opciones\"]:\n",
    "            print(opcion)\n",
    "        print(f\"Respuesta correcta: {pregunta['respuesta_correcta']}\")\n",
    "        print()"
   ]
  },
  {
   "cell_type": "code",
   "execution_count": 26,
   "id": "051e62e6",
   "metadata": {},
   "outputs": [],
   "source": [
    "nuevo_participante = {\n",
    "    \"nombre\": \"Carlos\",\n",
    "    \"puntuacion\": 18\n",
    "}\n",
    "\n",
    "preguntas[\"ranking\"].append(nuevo_participante)"
   ]
  },
  {
   "cell_type": "code",
   "execution_count": 27,
   "id": "3b024156",
   "metadata": {},
   "outputs": [],
   "source": [
    "with open(\"preguntas.json\", \"w\", encoding=\"utf-8\") as archivo:\n",
    "    json.dump(preguntas, archivo, indent=4, ensure_ascii=False)"
   ]
  },
  {
   "cell_type": "code",
   "execution_count": 35,
   "id": "8bd87820",
   "metadata": {},
   "outputs": [
    {
     "name": "stdout",
     "output_type": "stream",
     "text": [
      "¿Cuál es el resultado de 3 + 2 * 2 en Python?\n",
      "A. 10\n",
      "B. 7\n",
      "C. 9\n",
      "D. 8\n",
      "Respuesta correcta: B\n",
      "\n"
     ]
    }
   ],
   "source": [
    "import funciones as f\n",
    "\n",
    "f.empieza_cuestionario()"
   ]
  }
 ],
 "metadata": {
  "kernelspec": {
   "display_name": "Python 3",
   "language": "python",
   "name": "python3"
  },
  "language_info": {
   "codemirror_mode": {
    "name": "ipython",
    "version": 3
   },
   "file_extension": ".py",
   "mimetype": "text/x-python",
   "name": "python",
   "nbconvert_exporter": "python",
   "pygments_lexer": "ipython3",
   "version": "3.13.2"
  }
 },
 "nbformat": 4,
 "nbformat_minor": 5
}

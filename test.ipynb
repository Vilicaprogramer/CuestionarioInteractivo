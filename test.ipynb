{
 "cells": [
  {
   "cell_type": "code",
   "execution_count": 19,
   "id": "e7ad7eba",
   "metadata": {},
   "outputs": [],
   "source": [
    "import json\n",
    "import random\n",
    "\n",
    "with open(\"preguntas_programacion.json\", \"r\", encoding=\"utf-8\") as archivo:\n",
    "    preguntas = json.load(archivo)"
   ]
  },
  {
   "cell_type": "code",
   "execution_count": null,
   "id": "c3e3b791",
   "metadata": {},
   "outputs": [
    {
     "name": "stdout",
     "output_type": "stream",
     "text": [
      "¿Qué es una función en programación?\n",
      "A. Una variable\n",
      "B. Un bucle\n",
      "C. Un conjunto de instrucciones reutilizables\n",
      "D. Una constante\n",
      "¡¡¡CORRECTO!!!\n",
      "¿Qué valor booleano representa falso en Python?\n",
      "A. 0\n",
      "B. None\n",
      "C. False\n",
      "D. Null\n",
      "Respuesta correcta: C\n",
      "\n",
      "¿Qué comando imprime algo en la consola en Python?\n",
      "A. echo\n",
      "B. print\n",
      "C. write\n",
      "D. cout\n",
      "¡¡¡CORRECTO!!!\n",
      "¿Qué librería se usa comúnmente en Python para análisis de datos?\n",
      "A. pandas\n",
      "B. flask\n",
      "C. pygame\n",
      "D. numpy\n",
      "¡¡¡CORRECTO!!!\n",
      "¿Qué valor booleano representa falso en Python?\n",
      "A. 0\n",
      "B. None\n",
      "C. False\n",
      "D. Null\n"
     ]
    }
   ],
   "source": [
    "with open(\"preguntas_programacion.json\", \"r\", encoding=\"utf-8\") as archivo:\n",
    "    preguntas = json.load(archivo)\n",
    "\n",
    "puntuacion = 0\n",
    "while True:\n",
    "    preguntas_hechas = []\n",
    "    num_aleatorio = random.randint(1,20)\n",
    "    if num_aleatorio not in preguntas_hechas:   \n",
    "        for pregunta in preguntas[\"preguntas\"]:\n",
    "            if pregunta[\"numero\"] == num_aleatorio:\n",
    "                print(pregunta[\"pregunta\"])\n",
    "                for opcion in pregunta[\"opciones\"]:\n",
    "                    print(opcion)\n",
    "\n",
    "                repuesta = input(\"Caul es tu respuesta: \").upper()\n",
    "                if repuesta == pregunta['respuesta_correcta']:\n",
    "                    print('¡¡¡CORRECTO!!!')\n",
    "                    puntuacion += 10\n",
    "                    continuar = int(input(\"1 para continuar 2 para salir\"))\n",
    "                    if continuar == 1:\n",
    "                        continue\n",
    "                    else:\n",
    "                        break\n",
    "                else:\n",
    "                    print(f\"Respuesta correcta: {pregunta['respuesta_correcta']}\")\n",
    "                    print()\n",
    "    else:\n",
    "        print(\"Número repetido\")\n"
   ]
  },
  {
   "cell_type": "code",
   "execution_count": 4,
   "id": "051e62e6",
   "metadata": {},
   "outputs": [],
   "source": [
    "nuevo_participante = {\n",
    "    \"nombre\": \"Carlos\",\n",
    "    \"puntuacion\": 18\n",
    "}\n",
    "\n",
    "preguntas[\"ranking\"].append(nuevo_participante)"
   ]
  },
  {
   "cell_type": "code",
   "execution_count": 2,
   "id": "3b024156",
   "metadata": {},
   "outputs": [
    {
     "ename": "NameError",
     "evalue": "name 'json' is not defined",
     "output_type": "error",
     "traceback": [
      "\u001b[1;31m---------------------------------------------------------------------------\u001b[0m",
      "\u001b[1;31mNameError\u001b[0m                                 Traceback (most recent call last)",
      "Cell \u001b[1;32mIn[2], line 2\u001b[0m\n\u001b[0;32m      1\u001b[0m \u001b[38;5;28;01mwith\u001b[39;00m \u001b[38;5;28mopen\u001b[39m(\u001b[38;5;124m\"\u001b[39m\u001b[38;5;124mpreguntas_cultura_general.json\u001b[39m\u001b[38;5;124m\"\u001b[39m, \u001b[38;5;124m\"\u001b[39m\u001b[38;5;124mr\u001b[39m\u001b[38;5;124m\"\u001b[39m, encoding\u001b[38;5;241m=\u001b[39m\u001b[38;5;124m\"\u001b[39m\u001b[38;5;124mutf-8\u001b[39m\u001b[38;5;124m\"\u001b[39m) \u001b[38;5;28;01mas\u001b[39;00m archivo:\n\u001b[1;32m----> 2\u001b[0m     preguntas \u001b[38;5;241m=\u001b[39m \u001b[43mjson\u001b[49m\u001b[38;5;241m.\u001b[39mload(archivo)\n",
      "\u001b[1;31mNameError\u001b[0m: name 'json' is not defined"
     ]
    }
   ],
   "source": [
    "with open(\"preguntas_cultura_general.json\", \"r\", encoding=\"utf-8\") as archivo:\n",
    "    preguntas = json.load(archivo)"
   ]
  },
  {
   "cell_type": "code",
   "execution_count": 10,
   "id": "8bd87820",
   "metadata": {},
   "outputs": [
    {
     "name": "stdout",
     "output_type": "stream",
     "text": [
      "¿Qué instrucción se usa para iniciar un bucle en Python?\n",
      "A. loop\n",
      "B. repeat\n",
      "C. for\n",
      "D. iterate\n",
      "NO!! La respuesta correcta es B\n"
     ]
    },
    {
     "data": {
      "text/plain": [
       "False"
      ]
     },
     "execution_count": 10,
     "metadata": {},
     "output_type": "execute_result"
    }
   ],
   "source": [
    "from funciones import *\n",
    "\n",
    "empieza_cuestionario(\"preguntas_cultura_general.json\")"
   ]
  },
  {
   "cell_type": "code",
   "execution_count": 1,
   "id": "46b219f1",
   "metadata": {},
   "outputs": [
    {
     "ename": "NameError",
     "evalue": "name 'preguntas' is not defined",
     "output_type": "error",
     "traceback": [
      "\u001b[1;31m---------------------------------------------------------------------------\u001b[0m",
      "\u001b[1;31mNameError\u001b[0m                                 Traceback (most recent call last)",
      "Cell \u001b[1;32mIn[1], line 2\u001b[0m\n\u001b[0;32m      1\u001b[0m \u001b[38;5;66;03m#num_aleatorio = randint(1,20)\u001b[39;00m\n\u001b[1;32m----> 2\u001b[0m \u001b[38;5;28;01mfor\u001b[39;00m pregunta \u001b[38;5;129;01min\u001b[39;00m \u001b[43mpreguntas\u001b[49m[\u001b[38;5;124m\"\u001b[39m\u001b[38;5;124mpreguntas\u001b[39m\u001b[38;5;124m\"\u001b[39m]:\n\u001b[0;32m      3\u001b[0m     \u001b[38;5;28;01mif\u001b[39;00m pregunta[\u001b[38;5;124m\"\u001b[39m\u001b[38;5;124mnumero\u001b[39m\u001b[38;5;124m\"\u001b[39m] \u001b[38;5;241m==\u001b[39m num_aleatorio:\n\u001b[0;32m      4\u001b[0m         \u001b[38;5;28mprint\u001b[39m(pregunta[\u001b[38;5;124m\"\u001b[39m\u001b[38;5;124mpregunta\u001b[39m\u001b[38;5;124m\"\u001b[39m])\n",
      "\u001b[1;31mNameError\u001b[0m: name 'preguntas' is not defined"
     ]
    }
   ],
   "source": [
    "#num_aleatorio = randint(1,20)\n",
    "for pregunta in preguntas[\"preguntas\"]:\n",
    "    if pregunta[\"numero\"] == num_aleatorio:\n",
    "        print(pregunta[\"pregunta\"])\n",
    "        for opcion in pregunta[\"opciones\"]:\n",
    "            print(opcion)\n",
    "\n",
    "    \"\"\" if opcion == pregunta['respuesta_correcta']:\n",
    "        puntuacion += 10\n",
    "        print(\"CORRECTO!!\")\n",
    "        print(f\"Llevas {puntuacion} puntos\")\n",
    "        \n",
    "    else:\n",
    "        print(f\"NO!! La respuesta correcta es {pregunta['respuesta_correcta']}\")\n",
    " \"\"\"        "
   ]
  }
 ],
 "metadata": {
  "kernelspec": {
   "display_name": "Python 3",
   "language": "python",
   "name": "python3"
  },
  "language_info": {
   "codemirror_mode": {
    "name": "ipython",
    "version": 3
   },
   "file_extension": ".py",
   "mimetype": "text/x-python",
   "name": "python",
   "nbconvert_exporter": "python",
   "pygments_lexer": "ipython3",
   "version": "3.13.2"
  }
 },
 "nbformat": 4,
 "nbformat_minor": 5
}

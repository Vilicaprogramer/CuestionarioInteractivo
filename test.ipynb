{
 "cells": [
  {
   "cell_type": "code",
   "execution_count": 9,
   "id": "e7ad7eba",
   "metadata": {},
   "outputs": [],
   "source": [
    "import json\n",
    "import random\n",
    "\n",
    "with open(\"preguntas_programacion.json\", \"r\", encoding=\"utf-8\") as archivo:\n",
    "    preguntas = json.load(archivo)"
   ]
  },
  {
   "cell_type": "code",
   "execution_count": null,
   "id": "c3e3b791",
   "metadata": {},
   "outputs": [
    {
     "name": "stdout",
     "output_type": "stream",
     "text": [
      "¿Qué es una función en programación?\n",
      "A. Una variable\n",
      "B. Un bucle\n",
      "C. Un conjunto de instrucciones reutilizables\n",
      "D. Una constante\n",
      "¡¡¡CORRECTO!!!\n",
      "¿Qué valor booleano representa falso en Python?\n",
      "A. 0\n",
      "B. None\n",
      "C. False\n",
      "D. Null\n",
      "Respuesta correcta: C\n",
      "\n",
      "¿Qué comando imprime algo en la consola en Python?\n",
      "A. echo\n",
      "B. print\n",
      "C. write\n",
      "D. cout\n",
      "¡¡¡CORRECTO!!!\n",
      "¿Qué librería se usa comúnmente en Python para análisis de datos?\n",
      "A. pandas\n",
      "B. flask\n",
      "C. pygame\n",
      "D. numpy\n",
      "¡¡¡CORRECTO!!!\n",
      "¿Qué valor booleano representa falso en Python?\n",
      "A. 0\n",
      "B. None\n",
      "C. False\n",
      "D. Null\n"
     ]
    }
   ],
   "source": [
    "with open(\"preguntas_programacion.json\", \"r\", encoding=\"utf-8\") as archivo:\n",
    "    preguntas = json.load(archivo)\n",
    "\n",
    "puntuacion = 0\n",
    "while True:\n",
    "    preguntas_hechas = []\n",
    "    num_aleatorio = random.randint(1,20)\n",
    "    if num_aleatorio not in preguntas_hechas:   \n",
    "        for pregunta in preguntas[\"preguntas\"]:\n",
    "            if pregunta[\"numero\"] == num_aleatorio:\n",
    "                print(pregunta[\"pregunta\"])\n",
    "                for opcion in pregunta[\"opciones\"]:\n",
    "                    print(opcion)\n",
    "\n",
    "                repuesta = input(\"Caul es tu respuesta: \").upper()\n",
    "                if repuesta == pregunta['respuesta_correcta']:\n",
    "                    print('¡¡¡CORRECTO!!!')\n",
    "                    puntuacion += 10\n",
    "                    continuar = int(input(\"1 para continuar 2 para salir\"))\n",
    "                    if continuar == 1:\n",
    "                        continue\n",
    "                    else:\n",
    "                        break\n",
    "                else:\n",
    "                    print(f\"Respuesta correcta: {pregunta['respuesta_correcta']}\")\n",
    "                    print()\n",
    "    else:\n",
    "        print(\"Número repetido\")\n"
   ]
  },
  {
   "cell_type": "code",
   "execution_count": 4,
   "id": "051e62e6",
   "metadata": {},
   "outputs": [],
   "source": [
    "nuevo_participante = {\n",
    "    \"nombre\": \"Carlos\",\n",
    "    \"puntuacion\": 18\n",
    "}\n",
    "\n",
    "preguntas[\"ranking\"].append(nuevo_participante)"
   ]
  },
  {
   "cell_type": "code",
   "execution_count": 10,
   "id": "3b024156",
   "metadata": {},
   "outputs": [],
   "source": [
    "with open(\"ranking.json\", \"r\", encoding=\"utf-8\") as archivo:\n",
    "    ranking = json.load(archivo)"
   ]
  },
  {
   "cell_type": "code",
   "execution_count": 17,
   "id": "de4fe0db",
   "metadata": {},
   "outputs": [
    {
     "data": {
      "text/plain": [
       "[('Rober', 40), ('Vicen', 30)]"
      ]
     },
     "execution_count": 17,
     "metadata": {},
     "output_type": "execute_result"
    }
   ],
   "source": [
    "ranking_lista = []\n",
    "for persona in ranking['ranking']:\n",
    "    ranking_lista.append((persona['nombre'], persona['puntuacion']))\n",
    "\n",
    "ranking_lista = sorted(ranking_lista, key= lambda item: item[1], reverse=True)\n",
    "ranking_lista"
   ]
  },
  {
   "cell_type": "code",
   "execution_count": 10,
   "id": "8bd87820",
   "metadata": {},
   "outputs": [
    {
     "name": "stdout",
     "output_type": "stream",
     "text": [
      "¿Qué instrucción se usa para iniciar un bucle en Python?\n",
      "A. loop\n",
      "B. repeat\n",
      "C. for\n",
      "D. iterate\n",
      "NO!! La respuesta correcta es B\n"
     ]
    },
    {
     "data": {
      "text/plain": [
       "False"
      ]
     },
     "execution_count": 10,
     "metadata": {},
     "output_type": "execute_result"
    }
   ],
   "source": [
    "from funciones import *\n",
    "\n",
    "empieza_cuestionario(\"preguntas_cultura_general.json\")"
   ]
  },
  {
   "cell_type": "code",
   "execution_count": 6,
   "id": "46b219f1",
   "metadata": {},
   "outputs": [
    {
     "data": {
      "text/plain": [
       "[2, 1, 3, 4, 5]"
      ]
     },
     "execution_count": 6,
     "metadata": {},
     "output_type": "execute_result"
    }
   ],
   "source": [
    "lst = []\n",
    "lst.insert(0, 1)\n",
    "lst.insert(0,2)\n",
    "lst.insert(2,3)\n",
    "lst.insert(7, 5)\n",
    "lst.insert(-1,4)\n",
    "lst"
   ]
  },
  {
   "cell_type": "code",
   "execution_count": 7,
   "id": "68c2d5e0",
   "metadata": {},
   "outputs": [
    {
     "data": {
      "text/plain": [
       "['Amelia', 'Lola', 'Nayara', 'Vicen']"
      ]
     },
     "execution_count": 7,
     "metadata": {},
     "output_type": "execute_result"
    }
   ],
   "source": [
    "dcc = {'Vicen': 200, 'Lola': 550, 'Amelia': 550, 'Nayara': 345}\n",
    "sorted(dcc)"
   ]
  },
  {
   "cell_type": "code",
   "execution_count": null,
   "id": "59ed9590",
   "metadata": {},
   "outputs": [],
   "source": [
    "lst_copy = lst.copy()\n",
    "lst2 = [2, 1, 3, 4, 5]\n",
    "while len(lst_copy) > 0:\n",
    "    tpl = ()\n",
    "    \n"
   ]
  }
 ],
 "metadata": {
  "kernelspec": {
   "display_name": "Python 3",
   "language": "python",
   "name": "python3"
  },
  "language_info": {
   "codemirror_mode": {
    "name": "ipython",
    "version": 3
   },
   "file_extension": ".py",
   "mimetype": "text/x-python",
   "name": "python",
   "nbconvert_exporter": "python",
   "pygments_lexer": "ipython3",
   "version": "3.13.2"
  }
 },
 "nbformat": 4,
 "nbformat_minor": 5
}
